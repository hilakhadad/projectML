{
  "cells": [
    {
      "cell_type": "code",
      "execution_count": null,
      "metadata": {
        "colab": {
          "base_uri": "https://localhost:8080/"
        },
        "id": "Y28oD5lJJRze",
        "outputId": "e88c2f49-c0d7-420d-ae1d-d71bd73e122d"
      },
      "outputs": [
        {
          "output_type": "stream",
          "name": "stdout",
          "text": [
            "Mounted at /content/drive\n"
          ]
        }
      ],
      "source": [
        "from google.colab import drive\n",
        "drive.mount('/content/drive')"
      ]
    },
    {
      "cell_type": "code",
      "execution_count": null,
      "metadata": {
        "id": "356qsn-JLh59"
      },
      "outputs": [],
      "source": [
        "import scipy.io\n",
        "import pandas as pd\n",
        "import numpy as np\n",
        "from scipy.io import arff\n",
        "import io\n",
        "from googleapiclient.http import MediaIoBaseDownload\n",
        "\n",
        "dataFrameDic = {}"
      ]
    },
    {
      "cell_type": "code",
      "execution_count": null,
      "metadata": {
        "colab": {
          "base_uri": "https://localhost:8080/"
        },
        "id": "BMooIWR50MDW",
        "outputId": "56c7b895-5cec-47c8-ee69-bcc83c03cfd1"
      },
      "outputs": [
        {
          "output_type": "stream",
          "name": "stdout",
          "text": [
            "isnull in X:0\n",
            "NA in X:0\n",
            "isnull in Y:0\n",
            "NA in Y:0\n",
            "isnull in X:0\n",
            "NA in X:0\n",
            "isnull in Y:0\n",
            "NA in Y:0\n",
            "isnull in X:2796\n",
            "NA in X:2796\n",
            "isnull in Y:0\n",
            "NA in Y:0\n",
            "isnull in X:0\n",
            "NA in X:0\n",
            "isnull in Y:0\n",
            "NA in Y:0\n",
            "isnull in X:0\n",
            "NA in X:0\n",
            "isnull in Y:0\n",
            "NA in Y:0\n"
          ]
        }
      ],
      "source": [
        "breast_arff = \"/content/drive/Shareddrives/ML./project/datasets/raw/arff/Breast.arff\"\n",
        "lung_arff = \"/content/drive/Shareddrives/ML./project/datasets/raw/arff/Lung.arff\"\n",
        "lymphoma_arff = \"/content/drive/Shareddrives/ML./project/datasets/raw/arff/Lymphoma.arff\"\n",
        "Leukemia_4c_arff = \"/content/drive/Shareddrives/ML./project/datasets/raw/arff/Leukemia_4c.arff\"\n",
        "Leukemia_3c_arff = \"/content/drive/Shareddrives/ML./project/datasets/raw/arff/Leukemia_3c.arff\"\n",
        "arff_dict = {\"breast_arff\":breast_arff, \"lung_arff\":lung_arff, \"lymphoma_arff\":lymphoma_arff, \"Leukemia_4c_arff\":Leukemia_4c_arff, \"Leukemia_3c_arff\":Leukemia_3c_arff}\n",
        "\n",
        "for name, path in arff_dict.items():\n",
        "  data = arff.loadarff(path)\n",
        "  df = pd.DataFrame(data[0])\n",
        "  dataFrame_X = df.iloc[:, :-1]\n",
        "  x_null = dataFrame_X.isnull().any().sum()\n",
        "  x_na = dataFrame_X.isna().any().sum()\n",
        "  print(f\"isnull in X:{x_null}\")\n",
        "  print(f\"NA in X:{x_na}\")\n",
        "\n",
        "  dataFrame_y = df.iloc[:,-1]\n",
        "  y_null = dataFrame_y.isnull().sum()\n",
        "  y_na = dataFrame_y.isna().sum()\n",
        "  print(f\"isnull in Y:{y_null}\")\n",
        "  print(f\"NA in Y:{y_na}\")\n",
        "  i = 0\n",
        "  for v in dataFrame_y.unique():\n",
        "    dataFrame_y = dataFrame_y.replace(v, i)\n",
        "    i=i+1\n",
        "\n",
        "  dataFrame_X[\"target\"] = dataFrame_y\n",
        "  dataFrameDic[name] = dataFrame_X"
      ]
    },
    {
      "cell_type": "code",
      "execution_count": null,
      "metadata": {
        "colab": {
          "base_uri": "https://localhost:8080/"
        },
        "id": "FIMfElnGQQEf",
        "outputId": "669f7adf-aeef-41c6-a555-3af8450e655a"
      },
      "outputs": [
        {
          "output_type": "stream",
          "name": "stdout",
          "text": [
            "isnull in X:0\n",
            "NA in X:0\n",
            "isnull in Y:0\n",
            "NA in Y:0\n",
            "isnull in X:0\n",
            "NA in X:0\n",
            "isnull in Y:0\n",
            "NA in Y:0\n",
            "isnull in X:0\n",
            "NA in X:0\n",
            "isnull in Y:0\n",
            "NA in Y:0\n",
            "isnull in X:0\n",
            "NA in X:0\n",
            "isnull in Y:0\n",
            "NA in Y:0\n",
            "isnull in X:0\n",
            "NA in X:0\n",
            "isnull in Y:0\n",
            "NA in Y:0\n"
          ]
        }
      ],
      "source": [
        "prostate = \"/content/drive/Shareddrives/ML./project/datasets/raw/scikit-feature/Prostate-GE.mat\"\n",
        "colon = \"/content/drive/Shareddrives/ML./project/datasets/raw/scikit-feature/colon.mat\"\n",
        "leukemia = \"/content/drive/Shareddrives/ML./project/datasets/raw/scikit-feature/leukemia.mat\"\n",
        "lung = \"/content/drive/Shareddrives/ML./project/datasets/raw/scikit-feature/lung.mat\"\n",
        "lymphoma = \"/content/drive/Shareddrives/ML./project/datasets/raw/scikit-feature/lymphoma.mat\"\n",
        "scikitFeature_dict = {\"Prostate\":prostate, \"colon\":colon, \"leukemia\":leukemia, \"lung\":lung, \"lymphoma\":lymphoma}\n",
        "\n",
        "for name, path in scikitFeature_dict.items():\n",
        "  mat = scipy.io.loadmat(path)\n",
        "  dataFrame_X = pd.DataFrame(mat['X'])\n",
        "  x_null = dataFrame_X.isnull().any().sum()\n",
        "  x_na = dataFrame_X.isna().any().sum()\n",
        "  print(f\"isnull in X:{x_null}\")\n",
        "  print(f\"NA in X:{x_na}\")\n",
        "\n",
        "  dataFrame_y = pd.DataFrame(mat['Y'])\n",
        "  dataFrame_y = dataFrame_y[0]\n",
        "  y_null = dataFrame_y.isnull().sum()\n",
        "  y_na = dataFrame_y.isna().sum()\n",
        "  print(f\"isnull in Y:{y_null}\")\n",
        "  print(f\"NA in Y:{y_na}\")\n",
        "\n",
        "  dataFrame_X[\"target\"] = dataFrame_y\n",
        "  dataFrameDic[name] = dataFrame_X"
      ]
    },
    {
      "cell_type": "code",
      "execution_count": null,
      "metadata": {
        "colab": {
          "base_uri": "https://localhost:8080/"
        },
        "id": "9xnboZa2MPPx",
        "outputId": "701a9cdf-47a7-40f7-a70a-1015ca849f51"
      },
      "outputs": [
        {
          "output_type": "stream",
          "name": "stdout",
          "text": [
            "isnull in Y:0\n",
            "NA in Y:0\n",
            "isnull in X:0\n",
            "NA in X:0\n",
            "isnull in Y:0\n",
            "NA in Y:0\n",
            "isnull in X:0\n",
            "NA in X:0\n",
            "isnull in Y:0\n",
            "NA in Y:0\n",
            "isnull in X:1289\n",
            "NA in X:1289\n",
            "isnull in Y:0\n",
            "NA in Y:0\n",
            "isnull in X:1\n",
            "NA in X:1\n",
            "isnull in Y:0\n",
            "NA in Y:0\n",
            "isnull in X:1290\n",
            "NA in X:1290\n"
          ]
        }
      ],
      "source": [
        "cll = \"/content/drive/Shareddrives/ML./project/datasets/raw/bioconductor/CLL.csv\"\n",
        "copd = \"/content/drive/Shareddrives/ML./project/datasets/raw/bioconductor/COPDSexualDimorphism.data.csv\"\n",
        "dlbcl = \"/content/drive/Shareddrives/ML./project/datasets/raw/bioconductor/DLBCL.csv\"\n",
        "breastCancer = \"/content/drive/Shareddrives/ML./project/datasets/raw/bioconductor/breastCancerVDX.csv\"\n",
        "curatedOvarian = \"/content/drive/Shareddrives/ML./project/datasets/raw/bioconductor/curatedOvarianData.csv\"\n",
        "bioconductor_dict = {\"CLL\":cll, \"COPDSexualDimorphism.data\":copd, \"DLBCL\":dlbcl, \"breastCancerVDX\":breastCancer, \"curatedOvarianData\":curatedOvarian}\n",
        "\n",
        "for name, path in bioconductor_dict.items():\n",
        "  df = pd.read_csv(path, index_col=0)\n",
        "  df = df.transpose()\n",
        "  duplicate = df.duplicated().sum()\n",
        "  if(duplicate > 0):\n",
        "    df.drop_duplicates(subset=None, keep='first', inplace=False, ignore_index=False)\n",
        "  dataFrame_y = df.iloc[:,:1]\n",
        "  dataFrame_y = dataFrame_y.reset_index(drop=True)\n",
        "  cols_name = list(dataFrame_y.columns)\n",
        "  col_name = cols_name[0]\n",
        "  dataFrame_y =dataFrame_y[col_name]\n",
        "  y_null = dataFrame_y.isnull().sum()\n",
        "  y_na = dataFrame_y.isna().sum()\n",
        "  if(y_na > 0):\n",
        "    dataFrame_y = dataFrame_y.fillna(value=0)\n",
        "  y_null = dataFrame_y.isnull().sum()\n",
        "  y_na = dataFrame_y.isna().sum()\n",
        "  print(f\"isnull in Y:{y_null}\")\n",
        "  print(f\"NA in Y:{y_na}\")\n",
        "\n",
        "  dataFrame_X = df.iloc[: , 1:]\n",
        "  dataFrame_X = dataFrame_X.reset_index(drop=True)\n",
        "  x_null = dataFrame_X.isnull().any().sum()\n",
        "  x_na = dataFrame_X.isna().any().sum()\n",
        "  print(f\"isnull in X:{x_null}\")\n",
        "  print(f\"NA in X:{x_na}\")\n",
        "\n",
        "  dataFrame_X[\"target\"] = dataFrame_y\n",
        "  dataFrameDic[name] = dataFrame_X"
      ]
    },
    {
      "cell_type": "code",
      "execution_count": null,
      "metadata": {
        "colab": {
          "base_uri": "https://localhost:8080/"
        },
        "id": "4jb-BkLLQPjh",
        "outputId": "ccbd96bf-0f79-4792-b81e-c0e634388ccf"
      },
      "outputs": [
        {
          "output_type": "stream",
          "name": "stdout",
          "text": [
            "isnull in X:0\n",
            "NA in X:0\n",
            "isnull in Y:0\n",
            "NA in Y:0\n",
            "isnull in X:0\n",
            "NA in X:0\n",
            "isnull in Y:0\n",
            "NA in Y:0\n",
            "isnull in X:0\n",
            "NA in X:0\n",
            "isnull in Y:0\n",
            "NA in Y:0\n",
            "isnull in X:0\n",
            "NA in X:0\n",
            "isnull in Y:0\n",
            "NA in Y:0\n",
            "isnull in X:0\n",
            "NA in X:0\n",
            "isnull in Y:0\n",
            "NA in Y:0\n"
          ]
        }
      ],
      "source": [
        "misc1 = \"/content/drive/Shareddrives/ML./project/datasets/raw/misc/journal.pone.0246039.s002.csv\"\n",
        "misc2 = \"/content/drive/Shareddrives/ML./project/datasets/raw/misc/journal.pone.0246039.s003.csv\"\n",
        "misc3 = \"/content/drive/Shareddrives/ML./project/datasets/raw/misc/journal.pone.0246039.s004.csv\"\n",
        "misc4 = \"/content/drive/Shareddrives/ML./project/datasets/raw/misc/journal.pone.0246039.s005.csv\"\n",
        "misc5 = \"/content/drive/Shareddrives/ML./project/datasets/raw/misc/journal.pone.0246039.s006.csv\"\n",
        "misc_dict = {\"misc1\":misc1, \"misc2\":misc2, \"misc3\":misc3, \"misc4\":misc4, \"misc5\":misc5}\n",
        "\n",
        "for name, path in misc_dict.items():\n",
        "  df = pd.read_csv(path)\n",
        "  duplicate = df.duplicated().sum()\n",
        "  if(duplicate > 0):\n",
        "    df.drop_duplicates(subset=None, keep='first', inplace=False, ignore_index=False)\n",
        "\n",
        "  dataFrame_X = df.iloc[:, :-1]\n",
        "  x_null = dataFrame_X.isnull().any().sum()\n",
        "  x_na = dataFrame_X.isna().any().sum()\n",
        "  print(f\"isnull in X:{x_null}\")\n",
        "  print(f\"NA in X:{x_na}\")\n",
        "\n",
        "  dataFrame_y = df.iloc[: , -1]\n",
        "  y_null = dataFrame_y.isnull().sum()\n",
        "  y_na = dataFrame_y.isna().sum()\n",
        "  print(f\"isnull in Y:{y_null}\")\n",
        "  print(f\"NA in Y:{y_na}\")\n",
        "  i = 0\n",
        "  for v in dataFrame_y.unique():\n",
        "    dataFrame_y = dataFrame_y.replace(v, i)\n",
        "    i=i+1\n",
        "\n",
        "  dataFrame_X[\"target\"] = dataFrame_y\n",
        "  dataFrameDic[name] = dataFrame_X"
      ]
    },
    {
      "cell_type": "markdown",
      "metadata": {
        "id": "Q0jw3pzRojJm"
      },
      "source": [
        "##cleaning process"
      ]
    },
    {
      "cell_type": "code",
      "source": [
        "dataFrameDicClean = {}\n",
        "\n",
        "for key, value in dataFrameDic.items():\n",
        "  y=value.target\n",
        "  x=value.drop(columns=\"target\")\n",
        "  print(f\"{key}\")\n",
        "  print(f\"classes: {y.unique()}\")"
      ],
      "metadata": {
        "colab": {
          "base_uri": "https://localhost:8080/"
        },
        "id": "YzGkg9fe6q-s",
        "outputId": "11c3dcc4-749e-4199-bfff-f2fcdc9ecc29"
      },
      "execution_count": null,
      "outputs": [
        {
          "output_type": "stream",
          "name": "stdout",
          "text": [
            "breast_arff\n",
            "classes: [0 1]\n",
            "lung_arff\n",
            "classes: [0 1 2 3 4]\n",
            "lymphoma_arff\n",
            "classes: [0 1 2]\n",
            "Leukemia_4c_arff\n",
            "classes: [0 1 2 3]\n",
            "Leukemia_3c_arff\n",
            "classes: [0 1 2]\n",
            "Prostate\n",
            "classes: [1 2]\n",
            "colon\n",
            "classes: [-1  1]\n",
            "leukemia\n",
            "classes: [-1  1]\n",
            "lung\n",
            "classes: [1 2 5 3 4]\n",
            "lymphoma\n",
            "classes: [1 8 9 2 5 6 3 7 4]\n",
            "CLL\n",
            "classes: [1. 2.]\n",
            "COPDSexualDimorphism.data\n",
            "classes: [1. 2.]\n",
            "DLBCL\n",
            "classes: [2. 3. 1. 0. 4.]\n",
            "breastCancerVDX\n",
            "classes: [0. 1.]\n",
            "curatedOvarianData\n",
            "classes: [3. 2. 0.]\n",
            "misc1\n",
            "classes: [0 1]\n",
            "misc2\n",
            "classes: [0 1]\n",
            "misc3\n",
            "classes: [0 1]\n",
            "misc4\n",
            "classes: [0 1]\n",
            "misc5\n",
            "classes: [0 1]\n"
          ]
        }
      ]
    },
    {
      "cell_type": "code",
      "execution_count": null,
      "metadata": {
        "colab": {
          "background_save": true,
          "base_uri": "https://localhost:8080/"
        },
        "id": "nT3FKW2QC4dt",
        "outputId": "cd984edd-5d62-431e-b281-162f8c8dfa20"
      },
      "outputs": [
        {
          "name": "stdout",
          "output_type": "stream",
          "text": [
            "Before: (97, 24481)\n",
            "get_dummies: (97, 24481)\n",
            "Inputer\n",
            "VarianceThreshold\n",
            "PowerTransformer\n",
            "After: (97, 24189)\n",
            "____________________________\n",
            "Before: (203, 12600)\n",
            "get_dummies: (203, 12600)\n",
            "Inputer\n",
            "VarianceThreshold\n",
            "PowerTransformer\n"
          ]
        },
        {
          "name": "stderr",
          "output_type": "stream",
          "text": [
            "/usr/local/lib/python3.7/dist-packages/sklearn/preprocessing/_data.py:3253: RuntimeWarning: divide by zero encountered in log\n",
            "  loglike = -n_samples / 2 * np.log(x_trans.var())\n"
          ]
        },
        {
          "name": "stdout",
          "output_type": "stream",
          "text": [
            "After: (203, 12601)\n",
            "____________________________\n",
            "Before: (66, 4026)\n",
            "get_dummies: (66, 4026)\n",
            "Inputer\n",
            "VarianceThreshold\n",
            "PowerTransformer\n",
            "After: (66, 4027)\n",
            "____________________________\n",
            "Before: (72, 7129)\n",
            "get_dummies: (72, 7129)\n",
            "Inputer\n",
            "VarianceThreshold\n",
            "PowerTransformer\n"
          ]
        },
        {
          "name": "stderr",
          "output_type": "stream",
          "text": [
            "/usr/local/lib/python3.7/dist-packages/sklearn/preprocessing/_data.py:3253: RuntimeWarning: divide by zero encountered in log\n",
            "  loglike = -n_samples / 2 * np.log(x_trans.var())\n"
          ]
        },
        {
          "name": "stdout",
          "output_type": "stream",
          "text": [
            "After: (72, 7130)\n",
            "____________________________\n",
            "Before: (72, 7129)\n",
            "get_dummies: (72, 7129)\n",
            "Inputer\n",
            "VarianceThreshold\n",
            "PowerTransformer\n"
          ]
        },
        {
          "name": "stderr",
          "output_type": "stream",
          "text": [
            "/usr/local/lib/python3.7/dist-packages/sklearn/preprocessing/_data.py:3253: RuntimeWarning: divide by zero encountered in log\n",
            "  loglike = -n_samples / 2 * np.log(x_trans.var())\n"
          ]
        },
        {
          "name": "stdout",
          "output_type": "stream",
          "text": [
            "After: (72, 7130)\n",
            "____________________________\n",
            "Before: (72, 7129)\n",
            "get_dummies: (72, 7129)\n",
            "Inputer\n",
            "VarianceThreshold\n",
            "PowerTransformer\n"
          ]
        },
        {
          "name": "stderr",
          "output_type": "stream",
          "text": [
            "/usr/local/lib/python3.7/dist-packages/sklearn/preprocessing/_data.py:3253: RuntimeWarning: divide by zero encountered in log\n",
            "  loglike = -n_samples / 2 * np.log(x_trans.var())\n"
          ]
        },
        {
          "name": "stdout",
          "output_type": "stream",
          "text": [
            "After: (72, 7130)\n",
            "____________________________\n",
            "Before: (102, 5966)\n",
            "get_dummies: (102, 5966)\n",
            "Inputer\n",
            "VarianceThreshold\n",
            "PowerTransformer\n"
          ]
        },
        {
          "name": "stderr",
          "output_type": "stream",
          "text": [
            "/usr/local/lib/python3.7/dist-packages/sklearn/preprocessing/_data.py:3253: RuntimeWarning: divide by zero encountered in log\n",
            "  loglike = -n_samples / 2 * np.log(x_trans.var())\n"
          ]
        },
        {
          "name": "stdout",
          "output_type": "stream",
          "text": [
            "After: (102, 5967)\n",
            "____________________________\n",
            "Before: (62, 2000)\n",
            "get_dummies: (62, 2000)\n",
            "Inputer\n",
            "VarianceThreshold\n",
            "PowerTransformer\n",
            "After: (62, 2001)\n",
            "____________________________\n",
            "Before: (72, 7070)\n",
            "get_dummies: (72, 7070)\n",
            "Inputer\n",
            "VarianceThreshold\n",
            "PowerTransformer\n",
            "After: (72, 7071)\n",
            "____________________________\n",
            "Before: (203, 3312)\n",
            "get_dummies: (203, 3312)\n",
            "Inputer\n",
            "VarianceThreshold\n",
            "PowerTransformer\n"
          ]
        },
        {
          "name": "stderr",
          "output_type": "stream",
          "text": [
            "/usr/local/lib/python3.7/dist-packages/sklearn/preprocessing/_data.py:3253: RuntimeWarning: divide by zero encountered in log\n",
            "  loglike = -n_samples / 2 * np.log(x_trans.var())\n"
          ]
        },
        {
          "name": "stdout",
          "output_type": "stream",
          "text": [
            "After: (203, 3313)\n",
            "____________________________\n",
            "Before: (96, 4026)\n",
            "get_dummies: (96, 4026)\n",
            "Inputer\n",
            "VarianceThreshold\n",
            "PowerTransformer\n",
            "After: (96, 4027)\n",
            "____________________________\n",
            "Before: (22, 12625)\n",
            "get_dummies: (22, 12625)\n",
            "Inputer\n",
            "VarianceThreshold\n",
            "PowerTransformer\n"
          ]
        },
        {
          "name": "stderr",
          "output_type": "stream",
          "text": [
            "/usr/local/lib/python3.7/dist-packages/sklearn/preprocessing/_data.py:3253: RuntimeWarning: divide by zero encountered in log\n",
            "  loglike = -n_samples / 2 * np.log(x_trans.var())\n"
          ]
        },
        {
          "name": "stdout",
          "output_type": "stream",
          "text": [
            "After: (22, 12626)\n",
            "____________________________\n",
            "Before: (229, 14498)\n",
            "get_dummies: (229, 14498)\n",
            "Inputer\n"
          ]
        },
        {
          "name": "stderr",
          "output_type": "stream",
          "text": [
            "/usr/local/lib/python3.7/dist-packages/sklearn/utils/validation.py:1692: FutureWarning: Feature names only support names that are all strings. Got feature names with dtypes: ['float', 'str']. An error will be raised in 1.2.\n",
            "  FutureWarning,\n",
            "/usr/local/lib/python3.7/dist-packages/sklearn/utils/validation.py:1692: FutureWarning: Feature names only support names that are all strings. Got feature names with dtypes: ['float', 'str']. An error will be raised in 1.2.\n",
            "  FutureWarning,\n"
          ]
        },
        {
          "name": "stdout",
          "output_type": "stream",
          "text": [
            "VarianceThreshold\n",
            "PowerTransformer\n"
          ]
        },
        {
          "name": "stderr",
          "output_type": "stream",
          "text": [
            "/usr/local/lib/python3.7/dist-packages/sklearn/preprocessing/_data.py:3253: RuntimeWarning: divide by zero encountered in log\n",
            "  loglike = -n_samples / 2 * np.log(x_trans.var())\n"
          ]
        },
        {
          "name": "stdout",
          "output_type": "stream",
          "text": [
            "After: (229, 14499)\n",
            "____________________________\n",
            "Before: (194, 3583)\n",
            "get_dummies: (194, 3583)\n",
            "Inputer\n",
            "VarianceThreshold\n",
            "PowerTransformer\n",
            "After: (194, 3584)\n",
            "____________________________\n",
            "Before: (344, 22284)\n",
            "get_dummies: (344, 22284)\n",
            "Inputer\n",
            "VarianceThreshold\n",
            "PowerTransformer\n"
          ]
        },
        {
          "name": "stderr",
          "output_type": "stream",
          "text": [
            "/usr/local/lib/python3.7/dist-packages/sklearn/preprocessing/_data.py:3253: RuntimeWarning: divide by zero encountered in log\n",
            "  loglike = -n_samples / 2 * np.log(x_trans.var())\n"
          ]
        },
        {
          "name": "stdout",
          "output_type": "stream",
          "text": [
            "After: (344, 22285)\n",
            "____________________________\n",
            "Before: (194, 3584)\n",
            "get_dummies: (194, 3584)\n",
            "Inputer\n",
            "VarianceThreshold\n",
            "PowerTransformer\n",
            "After: (194, 3585)\n",
            "____________________________\n",
            "Before: (62, 2001)\n",
            "get_dummies: (62, 2001)\n",
            "Inputer\n",
            "VarianceThreshold\n",
            "PowerTransformer\n",
            "After: (62, 2002)\n",
            "____________________________\n",
            "Before: (102, 6034)\n",
            "get_dummies: (102, 6034)\n",
            "Inputer\n",
            "VarianceThreshold\n",
            "PowerTransformer\n",
            "After: (102, 6035)\n",
            "____________________________\n",
            "Before: (97, 24481)\n",
            "get_dummies: (97, 24481)\n",
            "Inputer\n",
            "VarianceThreshold\n",
            "PowerTransformer\n",
            "After: (97, 24189)\n",
            "____________________________\n",
            "Before: (60, 7129)\n",
            "get_dummies: (60, 7129)\n",
            "Inputer\n",
            "VarianceThreshold\n",
            "PowerTransformer\n"
          ]
        },
        {
          "name": "stderr",
          "output_type": "stream",
          "text": [
            "/usr/local/lib/python3.7/dist-packages/sklearn/preprocessing/_data.py:3253: RuntimeWarning: divide by zero encountered in log\n",
            "  loglike = -n_samples / 2 * np.log(x_trans.var())\n"
          ]
        },
        {
          "name": "stdout",
          "output_type": "stream",
          "text": [
            "After: (60, 7130)\n",
            "____________________________\n",
            "Before: (253, 15154)\n",
            "get_dummies: (253, 15154)\n",
            "Inputer\n",
            "VarianceThreshold\n",
            "PowerTransformer\n",
            "After: (253, 15155)\n",
            "____________________________\n"
          ]
        }
      ],
      "source": [
        "from sklearn.impute import SimpleImputer\n",
        "from sklearn.feature_selection import VarianceThreshold\n",
        "from sklearn.preprocessing import PowerTransformer\n",
        "\n",
        "dataFrameDicClean = {}\n",
        "\n",
        "for key, value in dataFrameDic.items():\n",
        "  y=value.target\n",
        "  x=value.drop(columns=\"target\")\n",
        "  print(f\"Before: {x.shape}\")\n",
        "\n",
        "  x = pd.get_dummies(x)\n",
        "  print(f\"get_dummies: {x.shape}\")\n",
        "\n",
        "  print(\"Inputer\")\n",
        "  imputer = SimpleImputer(strategy='mean')\n",
        "  imputer.fit(x)\n",
        "  x = imputer.transform(x)\n",
        "\n",
        "  print(\"VarianceThreshold\")\n",
        "  vt = VarianceThreshold()\n",
        "  vt.fit(x)\n",
        "  x_cols = vt.get_feature_names_out()\n",
        "  x = vt.transform(x)\n",
        "\n",
        "  print(\"PowerTransformer\")\n",
        "  pt = PowerTransformer()\n",
        "  pt.fit(x)\n",
        "  x = pt.transform(x)\n",
        "\n",
        "  x = pd.DataFrame(x, columns = x_cols)\n",
        "\n",
        "  x[\"target\"] = y\n",
        "  print(f\"After: {x.shape}\")\n",
        "  print(\"____________________________\")\n",
        "  dataFrameDicClean[key] = x"
      ]
    },
    {
      "cell_type": "code",
      "execution_count": null,
      "metadata": {
        "id": "qhf51h0xmI3u"
      },
      "outputs": [],
      "source": [
        "for key,val in dataFrameDicClean.items():\n",
        "  path= f\"/content/drive/Shareddrives/ML./project/datasets/clean/{key}.csv\"\n",
        "  val.to_csv(path, index=False) "
      ]
    }
  ],
  "metadata": {
    "colab": {
      "name": "cleaningProcess.ipynb",
      "provenance": []
    },
    "gpuClass": "standard",
    "kernelspec": {
      "display_name": "Python 3",
      "name": "python3"
    },
    "language_info": {
      "name": "python"
    }
  },
  "nbformat": 4,
  "nbformat_minor": 0
}